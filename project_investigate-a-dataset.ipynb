{
 "cells": [
  {
   "cell_type": "markdown",
   "metadata": {},
   "source": [
    "# Project: Analyzing No-Show Medical Appointments in Brazil\n",
    "\n",
    "## Table of Contents\n",
    "<ul>\n",
    "<li><a href=\"#intro\">Introduction</a></li>\n",
    "<li><a href=\"#wrangling\">Data Wrangling</a></li>\n",
    "<li><a href=\"#eda\">Exploratory Data Analysis</a></li>\n",
    "<li><a href=\"#conclusions\">Conclusions</a></li>\n",
    "</ul>"
   ]
  },
  {
   "cell_type": "markdown",
   "metadata": {},
   "source": [
    "<a id='intro'></a>\n",
    "## Introduction\n",
    "\n",
    "> The dataset comprises information from more than 100,000 medical appointments in Brazil and is collected to analyze whether patients show up for their appointments or not. Several factors as described below could be at play and the goal is to determine which of these factors influence a customer not showing up for his appointment. \n",
    "\n",
    ">These factors could be:\n",
    "\n",
    "<li>Gender: Gender of the patient</li>\n",
    "<li>ScheduledDay: Day on which the appointment was scheduled</li>\n",
    "<li>AppointmentDay: Day on which the appointment was scheduled for</li>\n",
    "<li>Age: Age of the patient</li>\n",
    "<li>Neighbourhood: Location of the hospital</li>\n",
    "<li>Scholarship: Is the patient enrolled in Brasilian welfare program \"Bolsa Família\"?</li>\n",
    "<li>Hipertension: Does the patient have Hypertension?</li>\n",
    "<li>Diabetes: Does the patient have Diabetes?</li>\n",
    "<li>Alcoholism: Does the patient have Hypertension?</li>\n",
    "<li>Handcap:  Does the patient have a handicap?</li>\n",
    "<li>SMS_received: Did the patient receive a SMS message notifying / reminding them of the appointment?</li>\n",
    "\n",
    "<b>Questions we might ask as to why a patient did or did not show up for the appointment could be.</b>\n",
    ">\n",
    "<li>Are men or women more likely to show or not show up for their appointments?</li>\n",
    "<li>Do younger / older people account for a large number of no-shows?</li>\n",
    "<li>Are customers more likely to show-up if they are reminded by a SMS message before their appointment?</li>\n",
    "<li>Are patients enrolled in \"Bolsa Família\" more likely to not show-up?</li>\n",
    "<li>Does the patient's Hypertention, Diabetes, Problem with Alcoholism or a Handicap prevent him from showing up?</li>"
   ]
  },
  {
   "cell_type": "code",
   "execution_count": 119,
   "metadata": {},
   "outputs": [],
   "source": [
    "# Let us first import all the packages that we will need for this project\n",
    "\n",
    "import numpy as np\n",
    "import pandas as pd\n",
    "import matplotlib.pyplot as plt\n",
    "import seaborn as sns\n",
    "\n",
    "%matplotlib inline"
   ]
  },
  {
   "cell_type": "markdown",
   "metadata": {},
   "source": [
    "<a id='wrangling'></a>\n",
    "## Data Wrangling\n",
    "\n",
    "> In this step, we will load the data into a pandas dataframe, check for any errors or missing data, clean the data, fill missing data if any and prepare it for analysis.\n",
    "\n",
    "### General Properties"
   ]
  },
  {
   "cell_type": "code",
   "execution_count": 120,
   "metadata": {
    "scrolled": true
   },
   "outputs": [
    {
     "data": {
      "text/html": [
       "<div>\n",
       "<style scoped>\n",
       "    .dataframe tbody tr th:only-of-type {\n",
       "        vertical-align: middle;\n",
       "    }\n",
       "\n",
       "    .dataframe tbody tr th {\n",
       "        vertical-align: top;\n",
       "    }\n",
       "\n",
       "    .dataframe thead th {\n",
       "        text-align: right;\n",
       "    }\n",
       "</style>\n",
       "<table border=\"1\" class=\"dataframe\">\n",
       "  <thead>\n",
       "    <tr style=\"text-align: right;\">\n",
       "      <th></th>\n",
       "      <th>PatientId</th>\n",
       "      <th>AppointmentID</th>\n",
       "      <th>Gender</th>\n",
       "      <th>ScheduledDay</th>\n",
       "      <th>AppointmentDay</th>\n",
       "      <th>Age</th>\n",
       "      <th>Neighbourhood</th>\n",
       "      <th>Scholarship</th>\n",
       "      <th>Hipertension</th>\n",
       "      <th>Diabetes</th>\n",
       "      <th>Alcoholism</th>\n",
       "      <th>Handcap</th>\n",
       "      <th>SMS_received</th>\n",
       "      <th>No-show</th>\n",
       "    </tr>\n",
       "  </thead>\n",
       "  <tbody>\n",
       "    <tr>\n",
       "      <th>92450</th>\n",
       "      <td>52659100000000</td>\n",
       "      <td>5618119</td>\n",
       "      <td>F</td>\n",
       "      <td>2016-04-25T20:20:32Z</td>\n",
       "      <td>2016-06-02T00:00:00Z</td>\n",
       "      <td>20</td>\n",
       "      <td>JARDIM CAMBURI</td>\n",
       "      <td>0</td>\n",
       "      <td>0</td>\n",
       "      <td>0</td>\n",
       "      <td>0</td>\n",
       "      <td>0</td>\n",
       "      <td>1</td>\n",
       "      <td>Yes</td>\n",
       "    </tr>\n",
       "    <tr>\n",
       "      <th>10503</th>\n",
       "      <td>9698950000000</td>\n",
       "      <td>5682234</td>\n",
       "      <td>M</td>\n",
       "      <td>2016-05-10T16:04:25Z</td>\n",
       "      <td>2016-05-16T00:00:00Z</td>\n",
       "      <td>34</td>\n",
       "      <td>JUCUTUQUARA</td>\n",
       "      <td>0</td>\n",
       "      <td>0</td>\n",
       "      <td>0</td>\n",
       "      <td>0</td>\n",
       "      <td>0</td>\n",
       "      <td>0</td>\n",
       "      <td>No</td>\n",
       "    </tr>\n",
       "    <tr>\n",
       "      <th>10410</th>\n",
       "      <td>673789000000000</td>\n",
       "      <td>5696894</td>\n",
       "      <td>F</td>\n",
       "      <td>2016-05-13T14:34:40Z</td>\n",
       "      <td>2016-05-16T00:00:00Z</td>\n",
       "      <td>28</td>\n",
       "      <td>CONSOLAÇÃO</td>\n",
       "      <td>0</td>\n",
       "      <td>0</td>\n",
       "      <td>0</td>\n",
       "      <td>0</td>\n",
       "      <td>0</td>\n",
       "      <td>0</td>\n",
       "      <td>No</td>\n",
       "    </tr>\n",
       "    <tr>\n",
       "      <th>88102</th>\n",
       "      <td>5586660000000</td>\n",
       "      <td>5692727</td>\n",
       "      <td>F</td>\n",
       "      <td>2016-05-12T16:06:03Z</td>\n",
       "      <td>2016-06-08T00:00:00Z</td>\n",
       "      <td>0</td>\n",
       "      <td>BONFIM</td>\n",
       "      <td>0</td>\n",
       "      <td>0</td>\n",
       "      <td>0</td>\n",
       "      <td>0</td>\n",
       "      <td>0</td>\n",
       "      <td>0</td>\n",
       "      <td>No</td>\n",
       "    </tr>\n",
       "    <tr>\n",
       "      <th>70262</th>\n",
       "      <td>365226000000000</td>\n",
       "      <td>5654084</td>\n",
       "      <td>F</td>\n",
       "      <td>2016-05-03T13:48:11Z</td>\n",
       "      <td>2016-05-03T00:00:00Z</td>\n",
       "      <td>46</td>\n",
       "      <td>JARDIM DA PENHA</td>\n",
       "      <td>0</td>\n",
       "      <td>0</td>\n",
       "      <td>0</td>\n",
       "      <td>0</td>\n",
       "      <td>0</td>\n",
       "      <td>0</td>\n",
       "      <td>No</td>\n",
       "    </tr>\n",
       "  </tbody>\n",
       "</table>\n",
       "</div>"
      ],
      "text/plain": [
       "             PatientId  AppointmentID Gender          ScheduledDay  \\\n",
       "92450   52659100000000        5618119      F  2016-04-25T20:20:32Z   \n",
       "10503    9698950000000        5682234      M  2016-05-10T16:04:25Z   \n",
       "10410  673789000000000        5696894      F  2016-05-13T14:34:40Z   \n",
       "88102    5586660000000        5692727      F  2016-05-12T16:06:03Z   \n",
       "70262  365226000000000        5654084      F  2016-05-03T13:48:11Z   \n",
       "\n",
       "             AppointmentDay  Age    Neighbourhood  Scholarship  Hipertension  \\\n",
       "92450  2016-06-02T00:00:00Z   20   JARDIM CAMBURI            0             0   \n",
       "10503  2016-05-16T00:00:00Z   34      JUCUTUQUARA            0             0   \n",
       "10410  2016-05-16T00:00:00Z   28       CONSOLAÇÃO            0             0   \n",
       "88102  2016-06-08T00:00:00Z    0           BONFIM            0             0   \n",
       "70262  2016-05-03T00:00:00Z   46  JARDIM DA PENHA            0             0   \n",
       "\n",
       "       Diabetes  Alcoholism  Handcap  SMS_received No-show  \n",
       "92450         0           0        0             1     Yes  \n",
       "10503         0           0        0             0      No  \n",
       "10410         0           0        0             0      No  \n",
       "88102         0           0        0             0      No  \n",
       "70262         0           0        0             0      No  "
      ]
     },
     "execution_count": 120,
     "metadata": {},
     "output_type": "execute_result"
    }
   ],
   "source": [
    "# Loading the data into a pandas dataframe and printing out a sample for review\n",
    "\n",
    "df = pd.read_csv('noshowappointments.csv')\n",
    "df.sample(5)"
   ]
  },
  {
   "cell_type": "code",
   "execution_count": 121,
   "metadata": {
    "scrolled": false
   },
   "outputs": [
    {
     "name": "stdout",
     "output_type": "stream",
     "text": [
      "<class 'pandas.core.frame.DataFrame'>\n",
      "RangeIndex: 110527 entries, 0 to 110526\n",
      "Data columns (total 14 columns):\n",
      "PatientId         110527 non-null int64\n",
      "AppointmentID     110527 non-null int64\n",
      "Gender            110527 non-null object\n",
      "ScheduledDay      110527 non-null object\n",
      "AppointmentDay    110527 non-null object\n",
      "Age               110527 non-null int64\n",
      "Neighbourhood     110527 non-null object\n",
      "Scholarship       110527 non-null int64\n",
      "Hipertension      110527 non-null int64\n",
      "Diabetes          110527 non-null int64\n",
      "Alcoholism        110527 non-null int64\n",
      "Handcap           110527 non-null int64\n",
      "SMS_received      110527 non-null int64\n",
      "No-show           110527 non-null object\n",
      "dtypes: int64(9), object(5)\n",
      "memory usage: 11.8+ MB\n"
     ]
    }
   ],
   "source": [
    "# Let us try to see if we can get some info on the number of records, any null values and data types for the data.\n",
    "\n",
    "df.info()"
   ]
  },
  {
   "cell_type": "code",
   "execution_count": 122,
   "metadata": {},
   "outputs": [
    {
     "data": {
      "text/html": [
       "<div>\n",
       "<style scoped>\n",
       "    .dataframe tbody tr th:only-of-type {\n",
       "        vertical-align: middle;\n",
       "    }\n",
       "\n",
       "    .dataframe tbody tr th {\n",
       "        vertical-align: top;\n",
       "    }\n",
       "\n",
       "    .dataframe thead th {\n",
       "        text-align: right;\n",
       "    }\n",
       "</style>\n",
       "<table border=\"1\" class=\"dataframe\">\n",
       "  <thead>\n",
       "    <tr style=\"text-align: right;\">\n",
       "      <th></th>\n",
       "      <th>PatientId</th>\n",
       "      <th>AppointmentID</th>\n",
       "      <th>Age</th>\n",
       "      <th>Scholarship</th>\n",
       "      <th>Hipertension</th>\n",
       "      <th>Diabetes</th>\n",
       "      <th>Alcoholism</th>\n",
       "      <th>Handcap</th>\n",
       "      <th>SMS_received</th>\n",
       "    </tr>\n",
       "  </thead>\n",
       "  <tbody>\n",
       "    <tr>\n",
       "      <th>count</th>\n",
       "      <td>1.105270e+05</td>\n",
       "      <td>1.105270e+05</td>\n",
       "      <td>110527.000000</td>\n",
       "      <td>110527.000000</td>\n",
       "      <td>110527.000000</td>\n",
       "      <td>110527.000000</td>\n",
       "      <td>110527.000000</td>\n",
       "      <td>110527.000000</td>\n",
       "      <td>110527.000000</td>\n",
       "    </tr>\n",
       "    <tr>\n",
       "      <th>mean</th>\n",
       "      <td>1.474963e+14</td>\n",
       "      <td>5.675305e+06</td>\n",
       "      <td>37.088874</td>\n",
       "      <td>0.098266</td>\n",
       "      <td>0.197246</td>\n",
       "      <td>0.071865</td>\n",
       "      <td>0.030400</td>\n",
       "      <td>0.022248</td>\n",
       "      <td>0.321026</td>\n",
       "    </tr>\n",
       "    <tr>\n",
       "      <th>std</th>\n",
       "      <td>2.560949e+14</td>\n",
       "      <td>7.129575e+04</td>\n",
       "      <td>23.110205</td>\n",
       "      <td>0.297675</td>\n",
       "      <td>0.397921</td>\n",
       "      <td>0.258265</td>\n",
       "      <td>0.171686</td>\n",
       "      <td>0.161543</td>\n",
       "      <td>0.466873</td>\n",
       "    </tr>\n",
       "    <tr>\n",
       "      <th>min</th>\n",
       "      <td>3.920000e+04</td>\n",
       "      <td>5.030230e+06</td>\n",
       "      <td>-1.000000</td>\n",
       "      <td>0.000000</td>\n",
       "      <td>0.000000</td>\n",
       "      <td>0.000000</td>\n",
       "      <td>0.000000</td>\n",
       "      <td>0.000000</td>\n",
       "      <td>0.000000</td>\n",
       "    </tr>\n",
       "    <tr>\n",
       "      <th>25%</th>\n",
       "      <td>4.172615e+12</td>\n",
       "      <td>5.640286e+06</td>\n",
       "      <td>18.000000</td>\n",
       "      <td>0.000000</td>\n",
       "      <td>0.000000</td>\n",
       "      <td>0.000000</td>\n",
       "      <td>0.000000</td>\n",
       "      <td>0.000000</td>\n",
       "      <td>0.000000</td>\n",
       "    </tr>\n",
       "    <tr>\n",
       "      <th>50%</th>\n",
       "      <td>3.173180e+13</td>\n",
       "      <td>5.680573e+06</td>\n",
       "      <td>37.000000</td>\n",
       "      <td>0.000000</td>\n",
       "      <td>0.000000</td>\n",
       "      <td>0.000000</td>\n",
       "      <td>0.000000</td>\n",
       "      <td>0.000000</td>\n",
       "      <td>0.000000</td>\n",
       "    </tr>\n",
       "    <tr>\n",
       "      <th>75%</th>\n",
       "      <td>9.439170e+13</td>\n",
       "      <td>5.725524e+06</td>\n",
       "      <td>55.000000</td>\n",
       "      <td>0.000000</td>\n",
       "      <td>0.000000</td>\n",
       "      <td>0.000000</td>\n",
       "      <td>0.000000</td>\n",
       "      <td>0.000000</td>\n",
       "      <td>1.000000</td>\n",
       "    </tr>\n",
       "    <tr>\n",
       "      <th>max</th>\n",
       "      <td>9.999820e+14</td>\n",
       "      <td>5.790484e+06</td>\n",
       "      <td>115.000000</td>\n",
       "      <td>1.000000</td>\n",
       "      <td>1.000000</td>\n",
       "      <td>1.000000</td>\n",
       "      <td>1.000000</td>\n",
       "      <td>4.000000</td>\n",
       "      <td>1.000000</td>\n",
       "    </tr>\n",
       "  </tbody>\n",
       "</table>\n",
       "</div>"
      ],
      "text/plain": [
       "          PatientId  AppointmentID            Age    Scholarship  \\\n",
       "count  1.105270e+05   1.105270e+05  110527.000000  110527.000000   \n",
       "mean   1.474963e+14   5.675305e+06      37.088874       0.098266   \n",
       "std    2.560949e+14   7.129575e+04      23.110205       0.297675   \n",
       "min    3.920000e+04   5.030230e+06      -1.000000       0.000000   \n",
       "25%    4.172615e+12   5.640286e+06      18.000000       0.000000   \n",
       "50%    3.173180e+13   5.680573e+06      37.000000       0.000000   \n",
       "75%    9.439170e+13   5.725524e+06      55.000000       0.000000   \n",
       "max    9.999820e+14   5.790484e+06     115.000000       1.000000   \n",
       "\n",
       "        Hipertension       Diabetes     Alcoholism        Handcap  \\\n",
       "count  110527.000000  110527.000000  110527.000000  110527.000000   \n",
       "mean        0.197246       0.071865       0.030400       0.022248   \n",
       "std         0.397921       0.258265       0.171686       0.161543   \n",
       "min         0.000000       0.000000       0.000000       0.000000   \n",
       "25%         0.000000       0.000000       0.000000       0.000000   \n",
       "50%         0.000000       0.000000       0.000000       0.000000   \n",
       "75%         0.000000       0.000000       0.000000       0.000000   \n",
       "max         1.000000       1.000000       1.000000       4.000000   \n",
       "\n",
       "        SMS_received  \n",
       "count  110527.000000  \n",
       "mean        0.321026  \n",
       "std         0.466873  \n",
       "min         0.000000  \n",
       "25%         0.000000  \n",
       "50%         0.000000  \n",
       "75%         1.000000  \n",
       "max         1.000000  "
      ]
     },
     "execution_count": 122,
     "metadata": {},
     "output_type": "execute_result"
    }
   ],
   "source": [
    "# Looks like there are 110527 records and no null values in any of the columns. This is good.\n",
    "# Let us try to get summary statistics for the data.\n",
    "\n",
    "df.describe()"
   ]
  },
  {
   "cell_type": "code",
   "execution_count": 123,
   "metadata": {
    "scrolled": false
   },
   "outputs": [
    {
     "data": {
      "text/plain": [
       "0"
      ]
     },
     "execution_count": 123,
     "metadata": {},
     "output_type": "execute_result"
    }
   ],
   "source": [
    "# Let us now check if there are any duplicates in the AppointmentID. There should be none if the data is correct.\n",
    "df.AppointmentID.duplicated().sum()"
   ]
  },
  {
   "cell_type": "code",
   "execution_count": 124,
   "metadata": {},
   "outputs": [
    {
     "data": {
      "text/plain": [
       "822146000000000    88\n",
       "99637671331        84\n",
       "26886100000000     70\n",
       "33534800000000     65\n",
       "258424000000       62\n",
       "871375000000000    62\n",
       "75797500000000     62\n",
       "6264200000000      62\n",
       "66844900000000     57\n",
       "872279000000       55\n",
       "89239700000000     54\n",
       "8435223536         51\n",
       "853440000000000    50\n",
       "65433600000000     46\n",
       "14480000000000     46\n",
       "9452750000000      42\n",
       "81894500000000     42\n",
       "188232000000000    40\n",
       "2271580000000      38\n",
       "9496200000000      38\n",
       "13364900000000     37\n",
       "1484140000000      35\n",
       "986163000000000    34\n",
       "88835000000000     34\n",
       "712459000000000    33\n",
       "6128880000000      30\n",
       "416756000000000    30\n",
       "81214000000000     29\n",
       "1198160000000      24\n",
       "8634160000000      24\n",
       "                   ..\n",
       "6692450000000       1\n",
       "25378000000000      1\n",
       "45162700000000      1\n",
       "372767000000000     1\n",
       "5521620000000       1\n",
       "14331400000000      1\n",
       "8478880000000       1\n",
       "4878186365          1\n",
       "62497926            1\n",
       "733736000000000     1\n",
       "7712380000000       1\n",
       "768813000000000     1\n",
       "1192462358          1\n",
       "8794350000000       1\n",
       "439324000000000     1\n",
       "45145119925         1\n",
       "968542000000000     1\n",
       "8283120000000       1\n",
       "263364000000000     1\n",
       "751899000000        1\n",
       "93794700000000      1\n",
       "126967000000000     1\n",
       "465161000000        1\n",
       "25228700000000      1\n",
       "482574000000        1\n",
       "1544860000000       1\n",
       "87295200000000      1\n",
       "377522000000000     1\n",
       "366117000000000     1\n",
       "41767700000000      1\n",
       "Name: PatientId, Length: 61744, dtype: int64"
      ]
     },
     "execution_count": 124,
     "metadata": {},
     "output_type": "execute_result"
    }
   ],
   "source": [
    "# Also the PatientId column does not seem to yield any useful information except that some customers had multiple records, \n",
    "# which is quite possible.\n",
    "df.PatientId.value_counts()"
   ]
  },
  {
   "cell_type": "code",
   "execution_count": 125,
   "metadata": {},
   "outputs": [
    {
     "data": {
      "text/plain": [
       " 0      3539\n",
       " 1      2273\n",
       " 52     1746\n",
       " 49     1652\n",
       " 53     1651\n",
       " 56     1635\n",
       " 38     1629\n",
       " 59     1624\n",
       " 2      1618\n",
       " 50     1613\n",
       " 57     1603\n",
       " 36     1580\n",
       " 51     1567\n",
       " 19     1545\n",
       " 39     1536\n",
       " 37     1533\n",
       " 54     1530\n",
       " 34     1526\n",
       " 33     1524\n",
       " 30     1521\n",
       " 6      1521\n",
       " 3      1513\n",
       " 17     1509\n",
       " 32     1505\n",
       " 5      1489\n",
       " 44     1487\n",
       " 18     1487\n",
       " 58     1469\n",
       " 46     1460\n",
       " 45     1453\n",
       "        ... \n",
       " 74      602\n",
       " 76      571\n",
       " 75      544\n",
       " 78      541\n",
       " 77      527\n",
       " 80      511\n",
       " 81      434\n",
       " 82      392\n",
       " 79      390\n",
       " 84      311\n",
       " 83      280\n",
       " 85      275\n",
       " 86      260\n",
       " 87      184\n",
       " 89      173\n",
       " 88      126\n",
       " 90      109\n",
       " 92       86\n",
       " 91       66\n",
       " 93       53\n",
       " 94       33\n",
       " 95       24\n",
       " 96       17\n",
       " 97       11\n",
       " 98        6\n",
       " 115       5\n",
       " 100       4\n",
       " 102       2\n",
       " 99        1\n",
       "-1         1\n",
       "Name: Age, Length: 104, dtype: int64"
      ]
     },
     "execution_count": 125,
     "metadata": {},
     "output_type": "execute_result"
    }
   ],
   "source": [
    "# All statistics look reasonable, except Age.\n",
    "# Let us now observe the Age column closely.\n",
    "\n",
    "df.Age.value_counts()"
   ]
  },
  {
   "cell_type": "code",
   "execution_count": 126,
   "metadata": {},
   "outputs": [],
   "source": [
    "# Some of the column names like Hipertension, Handcap, Neighbourhood, Scholarship, No-show will need to be corrected for\n",
    "# spelling, underscores and more user friendly names for easy further analysis"
   ]
  },
  {
   "cell_type": "markdown",
   "metadata": {},
   "source": [
    "### Data Cleaning (Based on the observations above, we will try to remove / clean up data that is not useful for our analysis)"
   ]
  },
  {
   "cell_type": "code",
   "execution_count": 127,
   "metadata": {},
   "outputs": [],
   "source": [
    "# Since are there no duplicate records, the AppointmentID column can be dropped all together\n",
    "# Also, since the PatientId is not very useful to make any inferences, we will drop that as well.\n",
    "\n",
    "df.drop(['AppointmentID', 'PatientId'], axis=1, inplace=True)"
   ]
  },
  {
   "cell_type": "code",
   "execution_count": 128,
   "metadata": {
    "scrolled": true
   },
   "outputs": [
    {
     "data": {
      "text/html": [
       "<div>\n",
       "<style scoped>\n",
       "    .dataframe tbody tr th:only-of-type {\n",
       "        vertical-align: middle;\n",
       "    }\n",
       "\n",
       "    .dataframe tbody tr th {\n",
       "        vertical-align: top;\n",
       "    }\n",
       "\n",
       "    .dataframe thead th {\n",
       "        text-align: right;\n",
       "    }\n",
       "</style>\n",
       "<table border=\"1\" class=\"dataframe\">\n",
       "  <thead>\n",
       "    <tr style=\"text-align: right;\">\n",
       "      <th></th>\n",
       "      <th>Gender</th>\n",
       "      <th>ScheduledDay</th>\n",
       "      <th>AppointmentDay</th>\n",
       "      <th>Age</th>\n",
       "      <th>Neighbourhood</th>\n",
       "      <th>Scholarship</th>\n",
       "      <th>Hipertension</th>\n",
       "      <th>Diabetes</th>\n",
       "      <th>Alcoholism</th>\n",
       "      <th>Handcap</th>\n",
       "      <th>SMS_received</th>\n",
       "      <th>No-show</th>\n",
       "    </tr>\n",
       "  </thead>\n",
       "  <tbody>\n",
       "    <tr>\n",
       "      <th>63912</th>\n",
       "      <td>F</td>\n",
       "      <td>2016-05-16T09:17:44Z</td>\n",
       "      <td>2016-05-19T00:00:00Z</td>\n",
       "      <td>115</td>\n",
       "      <td>ANDORINHAS</td>\n",
       "      <td>0</td>\n",
       "      <td>0</td>\n",
       "      <td>0</td>\n",
       "      <td>0</td>\n",
       "      <td>1</td>\n",
       "      <td>0</td>\n",
       "      <td>Yes</td>\n",
       "    </tr>\n",
       "    <tr>\n",
       "      <th>63915</th>\n",
       "      <td>F</td>\n",
       "      <td>2016-05-16T09:17:44Z</td>\n",
       "      <td>2016-05-19T00:00:00Z</td>\n",
       "      <td>115</td>\n",
       "      <td>ANDORINHAS</td>\n",
       "      <td>0</td>\n",
       "      <td>0</td>\n",
       "      <td>0</td>\n",
       "      <td>0</td>\n",
       "      <td>1</td>\n",
       "      <td>0</td>\n",
       "      <td>Yes</td>\n",
       "    </tr>\n",
       "    <tr>\n",
       "      <th>68127</th>\n",
       "      <td>F</td>\n",
       "      <td>2016-04-08T14:29:17Z</td>\n",
       "      <td>2016-05-16T00:00:00Z</td>\n",
       "      <td>115</td>\n",
       "      <td>ANDORINHAS</td>\n",
       "      <td>0</td>\n",
       "      <td>0</td>\n",
       "      <td>0</td>\n",
       "      <td>0</td>\n",
       "      <td>1</td>\n",
       "      <td>0</td>\n",
       "      <td>Yes</td>\n",
       "    </tr>\n",
       "    <tr>\n",
       "      <th>76284</th>\n",
       "      <td>F</td>\n",
       "      <td>2016-05-30T09:44:51Z</td>\n",
       "      <td>2016-05-30T00:00:00Z</td>\n",
       "      <td>115</td>\n",
       "      <td>ANDORINHAS</td>\n",
       "      <td>0</td>\n",
       "      <td>0</td>\n",
       "      <td>0</td>\n",
       "      <td>0</td>\n",
       "      <td>1</td>\n",
       "      <td>0</td>\n",
       "      <td>No</td>\n",
       "    </tr>\n",
       "    <tr>\n",
       "      <th>97666</th>\n",
       "      <td>F</td>\n",
       "      <td>2016-05-19T07:57:56Z</td>\n",
       "      <td>2016-06-03T00:00:00Z</td>\n",
       "      <td>115</td>\n",
       "      <td>SÃO JOSÉ</td>\n",
       "      <td>0</td>\n",
       "      <td>1</td>\n",
       "      <td>0</td>\n",
       "      <td>0</td>\n",
       "      <td>0</td>\n",
       "      <td>1</td>\n",
       "      <td>No</td>\n",
       "    </tr>\n",
       "    <tr>\n",
       "      <th>99832</th>\n",
       "      <td>F</td>\n",
       "      <td>2016-06-06T08:58:13Z</td>\n",
       "      <td>2016-06-06T00:00:00Z</td>\n",
       "      <td>-1</td>\n",
       "      <td>ROMÃO</td>\n",
       "      <td>0</td>\n",
       "      <td>0</td>\n",
       "      <td>0</td>\n",
       "      <td>0</td>\n",
       "      <td>0</td>\n",
       "      <td>0</td>\n",
       "      <td>No</td>\n",
       "    </tr>\n",
       "  </tbody>\n",
       "</table>\n",
       "</div>"
      ],
      "text/plain": [
       "      Gender          ScheduledDay        AppointmentDay  Age Neighbourhood  \\\n",
       "63912      F  2016-05-16T09:17:44Z  2016-05-19T00:00:00Z  115    ANDORINHAS   \n",
       "63915      F  2016-05-16T09:17:44Z  2016-05-19T00:00:00Z  115    ANDORINHAS   \n",
       "68127      F  2016-04-08T14:29:17Z  2016-05-16T00:00:00Z  115    ANDORINHAS   \n",
       "76284      F  2016-05-30T09:44:51Z  2016-05-30T00:00:00Z  115    ANDORINHAS   \n",
       "97666      F  2016-05-19T07:57:56Z  2016-06-03T00:00:00Z  115      SÃO JOSÉ   \n",
       "99832      F  2016-06-06T08:58:13Z  2016-06-06T00:00:00Z   -1         ROMÃO   \n",
       "\n",
       "       Scholarship  Hipertension  Diabetes  Alcoholism  Handcap  SMS_received  \\\n",
       "63912            0             0         0           0        1             0   \n",
       "63915            0             0         0           0        1             0   \n",
       "68127            0             0         0           0        1             0   \n",
       "76284            0             0         0           0        1             0   \n",
       "97666            0             1         0           0        0             1   \n",
       "99832            0             0         0           0        0             0   \n",
       "\n",
       "      No-show  \n",
       "63912     Yes  \n",
       "63915     Yes  \n",
       "68127     Yes  \n",
       "76284      No  \n",
       "97666      No  \n",
       "99832      No  "
      ]
     },
     "execution_count": 128,
     "metadata": {},
     "output_type": "execute_result"
    }
   ],
   "source": [
    "# A very high number of patients are aged 0 or 1, which are infants / toddlers. This makes sense.\n",
    "# While most of the patients fall between 18 and 55 years of age, we can see that the minimum age is -1, which is not possibe.\n",
    "# Also the maximum age is 115, which while seems unlikely, is quite possible. Further observation shows that there are\n",
    "# more records with age >= 100 but there no records between 102 and 115. For this reason, we will consider Age = 115 as anamoly\n",
    "# and drop these records.\n",
    "\n",
    "df.query('Age < 0 or Age == 115')"
   ]
  },
  {
   "cell_type": "code",
   "execution_count": 129,
   "metadata": {},
   "outputs": [],
   "source": [
    "# We will drop the rows with Age = -1 or Age = 115\n",
    "\n",
    "df.drop(df.index[[99832, 63912, 63915, 68127, 76284, 97666]], inplace=True)"
   ]
  },
  {
   "cell_type": "code",
   "execution_count": 130,
   "metadata": {},
   "outputs": [],
   "source": [
    "# There does not seem to be use for a timestamp after the date in ScheduledDay and AppointmentDay columns. We can clean it up.\n",
    "\n",
    "df['ScheduledDay'] = df.ScheduledDay.str.split('T', n=1, expand=True)\n",
    "df['AppointmentDay'] = df.AppointmentDay.str.split('T', n=1, expand=True)"
   ]
  },
  {
   "cell_type": "code",
   "execution_count": 131,
   "metadata": {
    "scrolled": true
   },
   "outputs": [
    {
     "data": {
      "text/html": [
       "<div>\n",
       "<style scoped>\n",
       "    .dataframe tbody tr th:only-of-type {\n",
       "        vertical-align: middle;\n",
       "    }\n",
       "\n",
       "    .dataframe tbody tr th {\n",
       "        vertical-align: top;\n",
       "    }\n",
       "\n",
       "    .dataframe thead th {\n",
       "        text-align: right;\n",
       "    }\n",
       "</style>\n",
       "<table border=\"1\" class=\"dataframe\">\n",
       "  <thead>\n",
       "    <tr style=\"text-align: right;\">\n",
       "      <th></th>\n",
       "      <th>Gender</th>\n",
       "      <th>ScheduledDay</th>\n",
       "      <th>AppointmentDay</th>\n",
       "      <th>Age</th>\n",
       "      <th>Neighborhood</th>\n",
       "      <th>Bolsa_Familia</th>\n",
       "      <th>Hypertension</th>\n",
       "      <th>Diabetes</th>\n",
       "      <th>Alcoholism</th>\n",
       "      <th>Handicap</th>\n",
       "      <th>SMS_received</th>\n",
       "      <th>No_Show</th>\n",
       "    </tr>\n",
       "  </thead>\n",
       "  <tbody>\n",
       "    <tr>\n",
       "      <th>0</th>\n",
       "      <td>F</td>\n",
       "      <td>2016-04-29</td>\n",
       "      <td>2016-04-29</td>\n",
       "      <td>62</td>\n",
       "      <td>JARDIM DA PENHA</td>\n",
       "      <td>0</td>\n",
       "      <td>1</td>\n",
       "      <td>0</td>\n",
       "      <td>0</td>\n",
       "      <td>0</td>\n",
       "      <td>0</td>\n",
       "      <td>No</td>\n",
       "    </tr>\n",
       "    <tr>\n",
       "      <th>1</th>\n",
       "      <td>M</td>\n",
       "      <td>2016-04-29</td>\n",
       "      <td>2016-04-29</td>\n",
       "      <td>56</td>\n",
       "      <td>JARDIM DA PENHA</td>\n",
       "      <td>0</td>\n",
       "      <td>0</td>\n",
       "      <td>0</td>\n",
       "      <td>0</td>\n",
       "      <td>0</td>\n",
       "      <td>0</td>\n",
       "      <td>No</td>\n",
       "    </tr>\n",
       "    <tr>\n",
       "      <th>2</th>\n",
       "      <td>F</td>\n",
       "      <td>2016-04-29</td>\n",
       "      <td>2016-04-29</td>\n",
       "      <td>62</td>\n",
       "      <td>MATA DA PRAIA</td>\n",
       "      <td>0</td>\n",
       "      <td>0</td>\n",
       "      <td>0</td>\n",
       "      <td>0</td>\n",
       "      <td>0</td>\n",
       "      <td>0</td>\n",
       "      <td>No</td>\n",
       "    </tr>\n",
       "    <tr>\n",
       "      <th>3</th>\n",
       "      <td>F</td>\n",
       "      <td>2016-04-29</td>\n",
       "      <td>2016-04-29</td>\n",
       "      <td>8</td>\n",
       "      <td>PONTAL DE CAMBURI</td>\n",
       "      <td>0</td>\n",
       "      <td>0</td>\n",
       "      <td>0</td>\n",
       "      <td>0</td>\n",
       "      <td>0</td>\n",
       "      <td>0</td>\n",
       "      <td>No</td>\n",
       "    </tr>\n",
       "    <tr>\n",
       "      <th>4</th>\n",
       "      <td>F</td>\n",
       "      <td>2016-04-29</td>\n",
       "      <td>2016-04-29</td>\n",
       "      <td>56</td>\n",
       "      <td>JARDIM DA PENHA</td>\n",
       "      <td>0</td>\n",
       "      <td>1</td>\n",
       "      <td>1</td>\n",
       "      <td>0</td>\n",
       "      <td>0</td>\n",
       "      <td>0</td>\n",
       "      <td>No</td>\n",
       "    </tr>\n",
       "  </tbody>\n",
       "</table>\n",
       "</div>"
      ],
      "text/plain": [
       "  Gender ScheduledDay AppointmentDay  Age       Neighborhood  Bolsa_Familia  \\\n",
       "0      F   2016-04-29     2016-04-29   62    JARDIM DA PENHA              0   \n",
       "1      M   2016-04-29     2016-04-29   56    JARDIM DA PENHA              0   \n",
       "2      F   2016-04-29     2016-04-29   62      MATA DA PRAIA              0   \n",
       "3      F   2016-04-29     2016-04-29    8  PONTAL DE CAMBURI              0   \n",
       "4      F   2016-04-29     2016-04-29   56    JARDIM DA PENHA              0   \n",
       "\n",
       "   Hypertension  Diabetes  Alcoholism  Handicap  SMS_received No_Show  \n",
       "0             1         0           0         0             0      No  \n",
       "1             0         0           0         0             0      No  \n",
       "2             0         0           0         0             0      No  \n",
       "3             0         0           0         0             0      No  \n",
       "4             1         1           0         0             0      No  "
      ]
     },
     "execution_count": 131,
     "metadata": {},
     "output_type": "execute_result"
    }
   ],
   "source": [
    "# Let us now change the column names like \"Hipertension\", \"Handcap\", \"Neighbourhood\", \"Scholarship\" and \"No-show\" to\n",
    "# \"Hypertension\", \"Handicap\", \"Neighborhood\", \"Bolsa_Familia\" and \"No_Show\"\n",
    "\n",
    "df.rename(columns = \n",
    "          {'Hipertension': 'Hypertension', 'Handcap': 'Handicap', 'Neighbourhood': 'Neighborhood', \n",
    "           'Scholarship': 'Bolsa_Familia', 'No-show': 'No_Show'}, inplace=True)\n",
    "df.head()"
   ]
  },
  {
   "cell_type": "code",
   "execution_count": 132,
   "metadata": {},
   "outputs": [],
   "source": [
    "# We can change the \"No\" to 0 and \"Yes\" to 1 in the No_Show colmn, so it is easy to aggregate numerically\n",
    "\n",
    "df.No_Show.replace('Yes', \"1\", inplace=True)\n",
    "df.No_Show.replace('No', \"0\", inplace=True)"
   ]
  },
  {
   "cell_type": "code",
   "execution_count": 133,
   "metadata": {},
   "outputs": [],
   "source": [
    "# We need to ensure that the values in No_Show are numeric so we can perform calculations\n",
    "\n",
    "df[\"No_Show\"] = pd.to_numeric(df[\"No_Show\"])"
   ]
  },
  {
   "cell_type": "markdown",
   "metadata": {},
   "source": [
    "<a id='eda'></a>\n",
    "## Exploratory Data Analysis\n",
    "\n",
    "> Now that we have cleaned the data, let us move on to creating visualizations, making inferences and answering our questions.\n",
    "\n",
    "#### The dependent variable in this analysis is the No_Show column\n",
    "#### The independent variables that could influence the dependent variable are\n",
    "<li>Age</li>\n",
    "<li>Gender</li>\n",
    "<li>Enrollment in Bolsa Familia</li>\n",
    "<li>Alcoholism</li>\n",
    "<li>SMS Reminders</li>"
   ]
  },
  {
   "cell_type": "code",
   "execution_count": 134,
   "metadata": {
    "scrolled": false
   },
   "outputs": [
    {
     "data": {
      "image/png": "[encoded data removed]",
      "text/plain": [
       "<Figure size 1080x720 with 9 Axes>"
      ]
     },
     "metadata": {
      "needs_background": "light"
     },
     "output_type": "display_data"
    }
   ],
   "source": [
    "# Let us generate histograms of the data so we can visualize graphically for patterns\n",
    "\n",
    "df.hist(figsize =(15,10));"
   ]
  },
  {
   "cell_type": "markdown",
   "metadata": {},
   "source": [
    "As can be seen from the above histograms,\n",
    "<li>The age across the population is uniformly distributed and tapers off after 60</li>\n",
    "<li>There are very few people with reported alcoholism, diabetes or handicap other than 0, to make an impact on the No-Show statistic. We will not explore this further.</li>\n",
    "<li>About 10% of the patients are enrolled in the Bolsa Familia, ~ 10,000</li>\n",
    "<li>About 35% of the patients got SMS notifications regarding their scheduled appointment</li>"
   ]
  },
  {
   "cell_type": "code",
   "execution_count": 135,
   "metadata": {},
   "outputs": [
    {
     "data": {
      "text/plain": [
       "(88205, 22316, 0.2019163778829363)"
      ]
     },
     "execution_count": 135,
     "metadata": {},
     "output_type": "execute_result"
    }
   ],
   "source": [
    "# Let us create masks for the datasets where patients showed up and did not show up for their appointments.\n",
    "\n",
    "Show = df['No_Show'] == 0\n",
    "NoShow = df['No_Show'] == 1\n",
    "\n",
    "# What percentage of all patients are No-Shows?\n",
    "\n",
    "df_Show = df[df['No_Show'] == 0]\n",
    "df_NoShow = df[df['No_Show'] == 1]\n",
    "df_Show.shape[0], df_NoShow.shape[0], df_NoShow.shape[0]/df.shape[0]\n"
   ]
  },
  {
   "cell_type": "markdown",
   "metadata": {},
   "source": [
    "<li>20% of all patients are \"No-Shows\" to their appointments</li>\n",
    "<li>Let us see if gender has any role to play in the No-Shows</li>"
   ]
  },
  {
   "cell_type": "markdown",
   "metadata": {},
   "source": [
    "### Question 1: Are men or women more likely to show or not show up for their appointments?\n",
    "\n",
    "Are people more likely to not show-up if the hospital is in a certain location / Neighborhood?\n",
    "Are patients enrolled in \"Bolsa Família\" more likely to not show-up?\n",
    "Does the patient's Hypertention, Diabetes, Problem with Alcoholism or a Handicap prevent him from showing up?\n",
    "Are customers more likely to show-up if they are reminded by a SMS message before their appointment?"
   ]
  },
  {
   "cell_type": "code",
   "execution_count": 136,
   "metadata": {},
   "outputs": [
    {
     "name": "stderr",
     "output_type": "stream",
     "text": [
      "C:\\Users\\avinashk\\AppData\\Local\\Continuum\\anaconda3\\lib\\site-packages\\ipykernel_launcher.py:1: UserWarning: Boolean Series key will be reindexed to match DataFrame index.\n",
      "  \"\"\"Entry point for launching an IPython kernel.\n"
     ]
    },
    {
     "data": {
      "text/plain": [
       "(14591, 71834, 0.2031210847231116)"
      ]
     },
     "execution_count": 136,
     "metadata": {},
     "output_type": "execute_result"
    }
   ],
   "source": [
    "Tot_FNS = df[df['Gender'] == 'F'][NoShow].shape[0]\n",
    "Tot_F = df[df['Gender'] == 'F'].shape[0]\n",
    "Perc_FNS = Tot_FNS/Tot_F\n",
    "Tot_FNS, Tot_F, Perc_FNS"
   ]
  },
  {
   "cell_type": "code",
   "execution_count": 137,
   "metadata": {
    "scrolled": true
   },
   "outputs": [
    {
     "name": "stderr",
     "output_type": "stream",
     "text": [
      "C:\\Users\\avinashk\\AppData\\Local\\Continuum\\anaconda3\\lib\\site-packages\\ipykernel_launcher.py:1: UserWarning: Boolean Series key will be reindexed to match DataFrame index.\n",
      "  \"\"\"Entry point for launching an IPython kernel.\n"
     ]
    },
    {
     "data": {
      "text/plain": [
       "(7725, 38687, 0.19967947889471915)"
      ]
     },
     "execution_count": 137,
     "metadata": {},
     "output_type": "execute_result"
    }
   ],
   "source": [
    "Tot_MNS = df[df['Gender'] == 'M'][NoShow].shape[0]\n",
    "Tot_M = df[df['Gender'] == 'M'].shape[0]\n",
    "Perc_MNS = Tot_MNS/Tot_M\n",
    "Tot_MNS, Tot_M, Perc_MNS"
   ]
  },
  {
   "cell_type": "markdown",
   "metadata": {},
   "source": [
    "<li>Turns out, the percentage of no-shows is 20% for both men and women, the same as that of the total population.</li>\n",
    "<li>We can conclude that gender has no role to play in the no-shows</li>"
   ]
  },
  {
   "cell_type": "markdown",
   "metadata": {},
   "source": [
    "### Question 2: Do younger / older people account for a large number of no-shows?"
   ]
  },
  {
   "cell_type": "code",
   "execution_count": 138,
   "metadata": {
    "scrolled": true
   },
   "outputs": [
    {
     "data": {
      "image/png": "[encoded data removed]",
      "text/plain": [
       "<Figure size 432x288 with 1 Axes>"
      ]
     },
     "metadata": {
      "needs_background": "light"
     },
     "output_type": "display_data"
    }
   ],
   "source": [
    "# Let us plot a bar chart to see the average age of patients who show up and do not show up.\n",
    "\n",
    "df.groupby(['No_Show']).Age.mean().plot(kind='bar', title='Mean Age of Shows and No Shows');"
   ]
  },
  {
   "cell_type": "markdown",
   "metadata": {},
   "source": [
    "<li>The average age of Shows and No-Shows across the entire dataset is close, though the No-Shows tend to be younger by a few years.</li>\n",
    "<li>We may need to examine the data a little deeper to get more insights.</li>"
   ]
  },
  {
   "cell_type": "code",
   "execution_count": 139,
   "metadata": {
    "scrolled": true
   },
   "outputs": [
    {
     "data": {
      "image/png": "[encoded data removed]",
      "text/plain": [
       "<Figure size 432x288 with 1 Axes>"
      ]
     },
     "metadata": {
      "needs_background": "light"
     },
     "output_type": "display_data"
    }
   ],
   "source": [
    "# Let us plot a histogram of Shows and No-Shows side by side, to compare the age distribution of patients\n",
    "\n",
    "df.Age[NoShow].hist(alpha=0.4, color='Red', label='No-Show')\n",
    "df.Age[Show].hist(alpha=0.4, color='Blue', label='Show');"
   ]
  },
  {
   "cell_type": "markdown",
   "metadata": {},
   "source": [
    "<li>The histogram shows that patients who do not show up are distributed uniformly across different ages but the numbers sharply taper off after age 60. This could be because of lesser number of total older patients too.</li>\n",
    "<li>Since the Age data is so dispersed, let us categorize Age into 3 groups and calculate the percentage of No-Shows for each age group.</li>\n",
    "<li>The first age group is 0-39, the \"Young\" group</li>\n",
    "<li>The second age group is 40-69, the \"Mid\" group</li>\n",
    "<li>And the last age group is 70 and older, the \"Old\" group</li>\n",
    "<li>Let us calculate the No-Show percentage for all these 3 age groups and compare</li>"
   ]
  },
  {
   "cell_type": "code",
   "execution_count": 140,
   "metadata": {
    "scrolled": true
   },
   "outputs": [
    {
     "name": "stderr",
     "output_type": "stream",
     "text": [
      "C:\\Users\\avinashk\\AppData\\Local\\Continuum\\anaconda3\\lib\\site-packages\\ipykernel_launcher.py:1: UserWarning: Boolean Series key will be reindexed to match DataFrame index.\n",
      "  \"\"\"Entry point for launching an IPython kernel.\n"
     ]
    },
    {
     "data": {
      "text/plain": [
       "(13421, 59281, 0.22639631585162193)"
      ]
     },
     "execution_count": 140,
     "metadata": {},
     "output_type": "execute_result"
    }
   ],
   "source": [
    "Tot_NS_40 = df.query('Age < 40')[NoShow].shape[0]\n",
    "Tot_40 = df.query('Age < 40').shape[0]\n",
    "Perc_NS_40 = Tot_NS_40/Tot_40\n",
    "Tot_NS_40, Tot_40, Perc_NS_40"
   ]
  },
  {
   "cell_type": "code",
   "execution_count": 141,
   "metadata": {
    "scrolled": true
   },
   "outputs": [
    {
     "name": "stderr",
     "output_type": "stream",
     "text": [
      "C:\\Users\\avinashk\\AppData\\Local\\Continuum\\anaconda3\\lib\\site-packages\\ipykernel_launcher.py:1: UserWarning: Boolean Series key will be reindexed to match DataFrame index.\n",
      "  \"\"\"Entry point for launching an IPython kernel.\n"
     ]
    },
    {
     "data": {
      "text/plain": [
       "(7446, 41948, 0.1775054829789263)"
      ]
     },
     "execution_count": 141,
     "metadata": {},
     "output_type": "execute_result"
    }
   ],
   "source": [
    "Tot_NS_70 = df.query('Age >=40 and Age < 70')[NoShow].shape[0]\n",
    "Tot_70 = df.query('Age >=40 and Age < 70').shape[0]\n",
    "Perc_NS_70 = Tot_NS_70/Tot_70\n",
    "Tot_NS_70, Tot_70, Perc_NS_70"
   ]
  },
  {
   "cell_type": "code",
   "execution_count": 142,
   "metadata": {
    "scrolled": true
   },
   "outputs": [
    {
     "name": "stderr",
     "output_type": "stream",
     "text": [
      "C:\\Users\\avinashk\\AppData\\Local\\Continuum\\anaconda3\\lib\\site-packages\\ipykernel_launcher.py:1: UserWarning: Boolean Series key will be reindexed to match DataFrame index.\n",
      "  \"\"\"Entry point for launching an IPython kernel.\n"
     ]
    },
    {
     "data": {
      "text/plain": [
       "(1449, 9292, 0.15594059405940594)"
      ]
     },
     "execution_count": 142,
     "metadata": {},
     "output_type": "execute_result"
    }
   ],
   "source": [
    "Tot_NS_100 = df.query('Age >= 70')[NoShow].shape[0]\n",
    "Tot_100 = df.query('Age >= 70').shape[0]\n",
    "Perc_NS_100 = Tot_NS_100/Tot_100\n",
    "Tot_NS_100, Tot_100, Perc_NS_100"
   ]
  },
  {
   "cell_type": "markdown",
   "metadata": {},
   "source": [
    "<li>Turns out that age group 70 and older had a lower percentage of no-shows at 15.6%</li>\n",
    "<li>This is consistent with our earlier observation that No-Shows taper off as people get older.</li>\n",
    "<li>The younger group 0-39 has a slightly higher percentage of no-shows at 22.6%</li>"
   ]
  },
  {
   "cell_type": "code",
   "execution_count": 143,
   "metadata": {},
   "outputs": [
    {
     "data": {
      "image/png": "[encoded data removed]",
      "text/plain": [
       "<Figure size 432x288 with 1 Axes>"
      ]
     },
     "metadata": {
      "needs_background": "light"
     },
     "output_type": "display_data"
    }
   ],
   "source": [
    "# Let us try to display the above observation graphically as well, in the from of a bar chart.\n",
    "\n",
    "Y = [Perc_NS_40, Perc_NS_70, Perc_NS_100]\n",
    "X = ['0-39', '40-69', '70-110']\n",
    "x_pos = np.arange(len(X))\n",
    "plt.bar(x_pos, Y, align='center', alpha=0.9)\n",
    "plt.xticks(x_pos, X)\n",
    "plt.xlabel('Age Group')\n",
    "plt.ylabel('No-Show Percentage')\n",
    "plt.title('No-Show Percentage by Age Group');"
   ]
  },
  {
   "cell_type": "markdown",
   "metadata": {},
   "source": [
    "### Question 3: Let us now look at both Age and Gender as influencing variables"
   ]
  },
  {
   "cell_type": "code",
   "execution_count": 144,
   "metadata": {
    "scrolled": true
   },
   "outputs": [
    {
     "name": "stderr",
     "output_type": "stream",
     "text": [
      "C:\\Users\\avinashk\\AppData\\Local\\Continuum\\anaconda3\\lib\\site-packages\\ipykernel_launcher.py:1: UserWarning: Boolean Series key will be reindexed to match DataFrame index.\n",
      "  \"\"\"Entry point for launching an IPython kernel.\n"
     ]
    },
    {
     "data": {
      "text/plain": [
       "0.22329313668355225"
      ]
     },
     "execution_count": 144,
     "metadata": {},
     "output_type": "execute_result"
    }
   ],
   "source": [
    "Tot_MNS_40 = df.query('Gender == \"M\" and Age < 40')[NoShow].shape[0]\n",
    "Tot_M_40 = df.query('Gender == \"M\" and Age < 40').shape[0]\n",
    "Perc_MNS_40 = Tot_MNS_40/Tot_M_40\n",
    "Perc_MNS_40"
   ]
  },
  {
   "cell_type": "code",
   "execution_count": 145,
   "metadata": {
    "scrolled": true
   },
   "outputs": [
    {
     "name": "stderr",
     "output_type": "stream",
     "text": [
      "C:\\Users\\avinashk\\AppData\\Local\\Continuum\\anaconda3\\lib\\site-packages\\ipykernel_launcher.py:1: UserWarning: Boolean Series key will be reindexed to match DataFrame index.\n",
      "  \"\"\"Entry point for launching an IPython kernel.\n"
     ]
    },
    {
     "data": {
      "text/plain": [
       "0.17037259615384615"
      ]
     },
     "execution_count": 145,
     "metadata": {},
     "output_type": "execute_result"
    }
   ],
   "source": [
    "df.query('Gender == \"M\" and Age >= 40 and Age < 70')[NoShow].shape[0]/df.query('Gender == \"M\" and Age >= 40 and Age < 70').shape[0]"
   ]
  },
  {
   "cell_type": "code",
   "execution_count": 146,
   "metadata": {},
   "outputs": [
    {
     "name": "stderr",
     "output_type": "stream",
     "text": [
      "C:\\Users\\avinashk\\AppData\\Local\\Continuum\\anaconda3\\lib\\site-packages\\ipykernel_launcher.py:1: UserWarning: Boolean Series key will be reindexed to match DataFrame index.\n",
      "  \"\"\"Entry point for launching an IPython kernel.\n"
     ]
    },
    {
     "data": {
      "text/plain": [
       "0.15892160340546294"
      ]
     },
     "execution_count": 146,
     "metadata": {},
     "output_type": "execute_result"
    }
   ],
   "source": [
    "df.query('Gender == \"M\" and Age > 70')[NoShow].shape[0]/df.query('Gender == \"M\" and Age > 70').shape[0]"
   ]
  },
  {
   "cell_type": "markdown",
   "metadata": {},
   "source": [
    "<li>We can observe that the combination of Gender (Male in this case) and Age Group yields a result no different than what we observed with just Age Group alone. Again, Gender does not seem to play a part in determining No-Shows</li>"
   ]
  },
  {
   "cell_type": "markdown",
   "metadata": {},
   "source": [
    "### Question 4: Does receiving a SMS message result in more patients showing up?"
   ]
  },
  {
   "cell_type": "code",
   "execution_count": 147,
   "metadata": {
    "scrolled": true
   },
   "outputs": [
    {
     "data": {
      "image/png": "[encoded data removed]",
      "text/plain": [
       "<Figure size 432x288 with 1 Axes>"
      ]
     },
     "metadata": {
      "needs_background": "light"
     },
     "output_type": "display_data"
    }
   ],
   "source": [
    "# Let us plot a bar chart of the number of people who show up and don't, once they receive a SMS message.\n",
    "\n",
    "df_SMS = df[df['SMS_received'] == 1]\n",
    "df_SMS.groupby(['No_Show'])['SMS_received'].sum().plot(kind='bar', label='Effect of SMS messages on Shows and No-Shows');"
   ]
  },
  {
   "cell_type": "markdown",
   "metadata": {},
   "source": [
    "<li>It is clearly evident from the above chart that a substantially higher number of patients do show up for their appointments if they receive a SMS message.</li>\n",
    "<li>25000+ patients who receive a SMS message show up for their appointment as against ~10,000 who do not.</li>"
   ]
  },
  {
   "cell_type": "markdown",
   "metadata": {},
   "source": [
    "### Question 5: Does enrolling in Bolsa Familia have an effect on No-Shows?"
   ]
  },
  {
   "cell_type": "code",
   "execution_count": 148,
   "metadata": {
    "scrolled": true
   },
   "outputs": [
    {
     "data": {
      "image/png": "[encoded data removed]",
      "text/plain": [
       "<Figure size 432x288 with 1 Axes>"
      ]
     },
     "metadata": {
      "needs_background": "light"
     },
     "output_type": "display_data"
    }
   ],
   "source": [
    "# Let us plot a bar chart of the number of people who are enrolled in Bolsa Familia but show up and do not show up.\n",
    "\n",
    "df_Bolsa = df[df['Bolsa_Familia'] == 1]\n",
    "df_Bolsa.groupby(['No_Show'])['Bolsa_Familia'].sum().plot(kind='bar', label=\"Effect of enrolling in Bolsa Familia\");"
   ]
  },
  {
   "cell_type": "markdown",
   "metadata": {},
   "source": [
    "<li>The chart suggests that substantially lower number of patients enrolling in Bolsa Familia do not show up. Most of the people enolled do show up.</li>"
   ]
  },
  {
   "cell_type": "markdown",
   "metadata": {},
   "source": [
    "<a id='conclusions'></a>\n",
    "## Conclusions\n",
    "\n",
    "> Below are the findings of our investigation of the dataset.\n",
    "\n",
    "<li>20% of all patients are \"No-Shows\" to their appointments.</li>\n",
    "<li>Gender has no role to play in the no-shows.</li>\n",
    "<li>The number of patients who do not show up are distributed uniformly across different ages but the numbers sharply taper off after age 60.</li>\n",
    "<li>Age group 70 and older had a lower percentage of no-shows at 15.6%. The younger group 0-39 has a slightly higher percentage of no-shows at 22.6%</li>\n",
    "<li>Substantially higher number of patients show up for their appointments if they receive a SMS message.</li>\n",
    "<li>Substantially lower number of patients enrolling in Bolsa Familia do not show up. Most of the people enolled do show up.</li>"
   ]
  },
  {
   "cell_type": "code",
   "execution_count": null,
   "metadata": {},
   "outputs": [],
   "source": []
  }
 ],
 "metadata": {
  "kernelspec": {
   "display_name": "Python 3",
   "language": "python",
   "name": "python3"
  },
  "language_info": {
   "codemirror_mode": {
    "name": "ipython",
    "version": 3
   },
   "file_extension": ".py",
   "mimetype": "text/x-python",
   "name": "python",
   "nbconvert_exporter": "python",
   "pygments_lexer": "ipython3",
   "version": "3.7.1"
  }
 },
 "nbformat": 4,
 "nbformat_minor": 2
}
